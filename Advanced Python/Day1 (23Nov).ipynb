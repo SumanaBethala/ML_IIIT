{
 "cells": [
  {
   "cell_type": "markdown",
   "metadata": {},
   "source": [
    " ## ***Functions***\n",
    " \n",
    " ### ***Syntax***\n",
    " \n",
    " `def funcName(arg1,arg2,....):\n",
    "     statement1\n",
    "     statement2\n",
    "     statement3\n",
    "     statement4\n",
    "     return`"
   ]
  },
  {
   "cell_type": "code",
   "execution_count": 1,
   "metadata": {},
   "outputs": [
    {
     "name": "stdout",
     "output_type": "stream",
     "text": [
      "Hai Sam...!\n"
     ]
    }
   ],
   "source": [
    "def greet():\n",
    "    print('Hai Sam...!')\n",
    "greet()"
   ]
  },
  {
   "cell_type": "code",
   "execution_count": 2,
   "metadata": {},
   "outputs": [
    {
     "name": "stdout",
     "output_type": "stream",
     "text": [
      "Hai Sam...!\n",
      "None\n"
     ]
    }
   ],
   "source": [
    "print(greet())"
   ]
  },
  {
   "cell_type": "code",
   "execution_count": 3,
   "metadata": {},
   "outputs": [
    {
     "name": "stdout",
     "output_type": "stream",
     "text": [
      "Hai Sam...!\n"
     ]
    }
   ],
   "source": [
    "var = greet()\n"
   ]
  },
  {
   "cell_type": "code",
   "execution_count": 4,
   "metadata": {},
   "outputs": [],
   "source": [
    "var"
   ]
  },
  {
   "cell_type": "code",
   "execution_count": 5,
   "metadata": {},
   "outputs": [
    {
     "name": "stdout",
     "output_type": "stream",
     "text": [
      "None\n"
     ]
    }
   ],
   "source": [
    "print(var)"
   ]
  },
  {
   "cell_type": "code",
   "execution_count": 6,
   "metadata": {},
   "outputs": [],
   "source": [
    "def greetWithName(frstname,lastname):\n",
    "    print('Good morning',frstname,lastname)"
   ]
  },
  {
   "cell_type": "code",
   "execution_count": 7,
   "metadata": {},
   "outputs": [
    {
     "name": "stdout",
     "output_type": "stream",
     "text": [
      "Good morning 36 67\n"
     ]
    }
   ],
   "source": [
    "# Good Morning SamSumana SamsonPrakash\n",
    "greetWithName(36, 67)"
   ]
  },
  {
   "cell_type": "code",
   "execution_count": 8,
   "metadata": {},
   "outputs": [
    {
     "name": "stdout",
     "output_type": "stream",
     "text": [
      "Good morning SR\n"
     ]
    }
   ],
   "source": [
    "def greetWithName1(frstname,lastname):\n",
    "    print('Good morning '+frstname+lastname)\n",
    "greetWithName1(\"S\",\"R\")"
   ]
  },
  {
   "cell_type": "code",
   "execution_count": 9,
   "metadata": {},
   "outputs": [
    {
     "ename": "SyntaxError",
     "evalue": "non-default argument follows default argument (<ipython-input-9-ca6ae852fd24>, line 1)",
     "output_type": "error",
     "traceback": [
      "\u001b[1;36m  File \u001b[1;32m\"<ipython-input-9-ca6ae852fd24>\"\u001b[1;36m, line \u001b[1;32m1\u001b[0m\n\u001b[1;33m    def mysum(a=10, b):\u001b[0m\n\u001b[1;37m             ^\u001b[0m\n\u001b[1;31mSyntaxError\u001b[0m\u001b[1;31m:\u001b[0m non-default argument follows default argument\n"
     ]
    }
   ],
   "source": [
    "def mysum(a=10, b):\n",
    "    return a+b"
   ]
  },
  {
   "cell_type": "code",
   "execution_count": null,
   "metadata": {},
   "outputs": [],
   "source": [
    "def mysum(a,b=10): # Default value should give at the last argument of a function\n",
    "    return a+b"
   ]
  },
  {
   "cell_type": "code",
   "execution_count": null,
   "metadata": {},
   "outputs": [],
   "source": [
    "def mysum1(a=3,b=6):\n",
    "    return a+b"
   ]
  },
  {
   "cell_type": "code",
   "execution_count": null,
   "metadata": {},
   "outputs": [],
   "source": [
    "mysum1(4)"
   ]
  },
  {
   "cell_type": "code",
   "execution_count": null,
   "metadata": {},
   "outputs": [],
   "source": [
    "list(range(5))"
   ]
  },
  {
   "cell_type": "code",
   "execution_count": null,
   "metadata": {},
   "outputs": [],
   "source": [
    "list(range(1,6))"
   ]
  },
  {
   "cell_type": "code",
   "execution_count": null,
   "metadata": {},
   "outputs": [],
   "source": [
    "list(range(2,10,3))"
   ]
  },
  {
   "cell_type": "code",
   "execution_count": null,
   "metadata": {},
   "outputs": [],
   "source": [
    "def my_range(start,stop,step):\n",
    "    while start<stop:\n",
    "        yield start\n",
    "        start+=step\n",
    "list(my_range(0,10,2))"
   ]
  },
  {
   "cell_type": "code",
   "execution_count": null,
   "metadata": {},
   "outputs": [],
   "source": [
    "def my_range(start,stop,step):\n",
    "    li = []\n",
    "    n= start\n",
    "    while n<stop:\n",
    "        li.append(n)\n",
    "        n+=step\n",
    "    return li\n",
    "my_range(0,10,2)"
   ]
  },
  {
   "cell_type": "code",
   "execution_count": null,
   "metadata": {},
   "outputs": [],
   "source": [
    "# Variable Length Arguments\n",
    "\n",
    "def my_prod(a, *values):\n",
    "    for i in values:\n",
    "        a = a*i\n",
    "    return a\n",
    "my_prod(0,2), my_prod(2,3), my_prod(2,3,4,5,6)"
   ]
  },
  {
   "cell_type": "code",
   "execution_count": null,
   "metadata": {},
   "outputs": [],
   "source": [
    "# Keyword Length Arguments\n",
    "\n",
    "def welcome(**names):\n",
    "    for k,v in names.items():\n",
    "        print(k,v)\n",
    "welcome(name = \"sam\", ph = \"238468\", place = \"elr\")"
   ]
  },
  {
   "cell_type": "markdown",
   "metadata": {},
   "source": [
    "Define a function for multiplication table. By default the function should print table from 1 to 10\n",
    "\n",
    "`mytable(n,start,stop)\n",
    " mytable(5)\n",
    " mytable(5,2,5)\n",
    " mytable(5,3)`"
   ]
  },
  {
   "cell_type": "code",
   "execution_count": null,
   "metadata": {},
   "outputs": [],
   "source": [
    "def mytable(n):\n",
    "    for i in range(1,11):\n",
    "        print(n,\"X\",i,\"=\",n*i)\n",
    "mytable(5)"
   ]
  },
  {
   "cell_type": "code",
   "execution_count": null,
   "metadata": {
    "scrolled": true
   },
   "outputs": [],
   "source": [
    "def mytable(n,start=1,stop=10):\n",
    "    for i in range(start,stop+1):\n",
    "        print(n,\"X\",i,\"=\",n*i)\n",
    "mytable(5,2,5)"
   ]
  },
  {
   "cell_type": "code",
   "execution_count": null,
   "metadata": {},
   "outputs": [],
   "source": [
    "def mytable(n,start=1,stop=10):\n",
    "    for i in range(start,stop+1):\n",
    "        print(n,\"X\",i,\"=\",n*i)\n",
    "mytable(5,3)"
   ]
  },
  {
   "cell_type": "markdown",
   "metadata": {},
   "source": [
    "Define a function to return the prime numbers in the inputs as a list. Define seperate function for prime.\n",
    "\n",
    "` myprimes(2,8,9)  # o/p [2]\n",
    "  myprimes(23,56,78,91) # o/p [23,91]`  "
   ]
  },
  {
   "cell_type": "code",
   "execution_count": 31,
   "metadata": {},
   "outputs": [
    {
     "name": "stdout",
     "output_type": "stream",
     "text": [
      "1 2 3 4\n",
      "[2, 3]\n"
     ]
    }
   ],
   "source": [
    "def isprime(n):\n",
    "    #DocString\n",
    "    \"this function will take the multiple numbers in a list and returns the prime numbers in that list\"\n",
    "    count = 0\n",
    "    for i in range(1,n+1):\n",
    "        if n%i == 0:\n",
    "            count+=1\n",
    "    if count == 2:\n",
    "        return True\n",
    "    else:\n",
    "        return False\n",
    "    \n",
    "def myprimes(n):\n",
    "    \n",
    "#     for i in n:\n",
    "#         if isprime(i):\n",
    "#             yield i\n",
    "    l1 = [i for i in n if isprime(i)]\n",
    "    print(l1)\n",
    "n = list(map(int,input().split()))\n",
    "myprimes(n)"
   ]
  },
  {
   "cell_type": "markdown",
   "metadata": {},
   "source": [
    "## Modules"
   ]
  },
  {
   "cell_type": "code",
   "execution_count": null,
   "metadata": {},
   "outputs": [],
   "source": [
    "import myfun"
   ]
  },
  {
   "cell_type": "code",
   "execution_count": null,
   "metadata": {},
   "outputs": [],
   "source": [
    "dir(myfun)"
   ]
  },
  {
   "cell_type": "code",
   "execution_count": null,
   "metadata": {},
   "outputs": [],
   "source": [
    "myfun.marks"
   ]
  },
  {
   "cell_type": "code",
   "execution_count": null,
   "metadata": {},
   "outputs": [],
   "source": [
    "myfun.predict(54)"
   ]
  },
  {
   "cell_type": "code",
   "execution_count": null,
   "metadata": {},
   "outputs": [],
   "source": [
    "import myfun as f"
   ]
  },
  {
   "cell_type": "code",
   "execution_count": null,
   "metadata": {},
   "outputs": [],
   "source": [
    "f.marks"
   ]
  },
  {
   "cell_type": "code",
   "execution_count": null,
   "metadata": {},
   "outputs": [],
   "source": [
    "f.predict(32)"
   ]
  },
  {
   "cell_type": "markdown",
   "metadata": {},
   "source": [
    "Define a function for proper name\n",
    "\n",
    "i/p \"      MacHine\",\" learning   \"<br>\n",
    "i/p \"maChine\",\" LearNing \" <br>\n",
    "o/p Machine Learning <br>\n"
   ]
  },
  {
   "cell_type": "code",
   "execution_count": null,
   "metadata": {},
   "outputs": [],
   "source": [
    "def propername(frstname,lastname):\n",
    "    l = frstname +\" \"+ lastname\n",
    "    l = l.strip().title()\n",
    "    return(l)\n",
    "propername(\"sAm\", \"suMana\")\n",
    "    "
   ]
  },
  {
   "cell_type": "code",
   "execution_count": null,
   "metadata": {},
   "outputs": [],
   "source": [
    "def proper(name):\n",
    "    name = name.strip().title()\n",
    "    return (name)\n",
    "    \n",
    "proper(\"    SaM sumAnA\")"
   ]
  },
  {
   "cell_type": "markdown",
   "metadata": {},
   "source": [
    "## Anonymous Function\n",
    "\n",
    "Syntax `lambda arguments:expression`"
   ]
  },
  {
   "cell_type": "markdown",
   "metadata": {},
   "source": [
    "### Add two lists element wise\n",
    "\n",
    "a = [1,2,3,4]\n",
    "b = [2,3,4,5]\n",
    "o/p: [3,5,7,9m]"
   ]
  },
  {
   "cell_type": "code",
   "execution_count": null,
   "metadata": {},
   "outputs": [],
   "source": [
    "def add(a,b):\n",
    "    for i in range(len(a)):\n",
    "        s = a[i]+b[i]\n",
    "        yield s\n",
    "        \n",
    "a = list(map(int,input().split()))\n",
    "b = list(map(int,input().split()))\n",
    "list(add(a,b))"
   ]
  },
  {
   "cell_type": "markdown",
   "metadata": {},
   "source": [
    "- Name, English, Maths, Science\n",
    "- Add the total marks for each student data\n",
    "- Sort them based on total in ascending order\n",
    "- Print the student name with max total. If total is equal check the maths marks and Print the name of the students who got the max in math"
   ]
  },
  {
   "cell_type": "code",
   "execution_count": 11,
   "metadata": {},
   "outputs": [],
   "source": [
    "studentmarks = [[\"Shine\",67,78,89],[\"Suma\",98,88,75],[\"Vasi\",98,87,76],[\"Vennu\",76,65,54]]"
   ]
  },
  {
   "cell_type": "code",
   "execution_count": 12,
   "metadata": {},
   "outputs": [
    {
     "data": {
      "text/plain": [
       "[['Shine', 67, 78, 89, 234],\n",
       " ['Suma', 98, 88, 75, 261],\n",
       " ['Vasi', 98, 87, 76, 261],\n",
       " ['Vennu', 76, 65, 54, 195]]"
      ]
     },
     "execution_count": 12,
     "metadata": {},
     "output_type": "execute_result"
    }
   ],
   "source": [
    "for i in studentmarks:\n",
    "    i.append(sum(i[1:]))\n",
    "studentmarks"
   ]
  },
  {
   "cell_type": "code",
   "execution_count": 13,
   "metadata": {},
   "outputs": [
    {
     "data": {
      "text/plain": [
       "[['Vennu', 76, 65, 54, 195],\n",
       " ['Shine', 67, 78, 89, 234],\n",
       " ['Suma', 98, 88, 75, 261],\n",
       " ['Vasi', 98, 87, 76, 261]]"
      ]
     },
     "execution_count": 13,
     "metadata": {},
     "output_type": "execute_result"
    }
   ],
   "source": [
    "a = sorted(studentmarks, key = lambda x:x[-1])\n",
    "a"
   ]
  },
  {
   "cell_type": "code",
   "execution_count": 14,
   "metadata": {},
   "outputs": [
    {
     "data": {
      "text/plain": [
       "[['Vennu', 76, 65, 54, 195],\n",
       " ['Shine', 67, 78, 89, 234],\n",
       " ['Vasi', 98, 87, 76, 261],\n",
       " ['Suma', 98, 88, 75, 261]]"
      ]
     },
     "execution_count": 14,
     "metadata": {},
     "output_type": "execute_result"
    }
   ],
   "source": [
    "b = sorted(studentmarks, key = lambda x:x[2])\n",
    "b"
   ]
  },
  {
   "cell_type": "code",
   "execution_count": 20,
   "metadata": {},
   "outputs": [
    {
     "name": "stdout",
     "output_type": "stream",
     "text": [
      "Suma\n"
     ]
    }
   ],
   "source": [
    "maths = 0\n",
    "for i in b:\n",
    "    if i[-1] == 261:\n",
    "        if maths<i[2]:\n",
    "            name = i[0]\n",
    "            maths = i[2]\n",
    "print(name)"
   ]
  },
  {
   "cell_type": "code",
   "execution_count": 21,
   "metadata": {},
   "outputs": [],
   "source": [
    "a = [1,2,3]\n",
    "b = [2,3,4]"
   ]
  },
  {
   "cell_type": "code",
   "execution_count": 22,
   "metadata": {},
   "outputs": [
    {
     "data": {
      "text/plain": [
       "[3, 5, 7]"
      ]
     },
     "execution_count": 22,
     "metadata": {},
     "output_type": "execute_result"
    }
   ],
   "source": [
    "list(map(lambda x,y:x+y,a,b))"
   ]
  },
  {
   "cell_type": "code",
   "execution_count": 24,
   "metadata": {},
   "outputs": [
    {
     "data": {
      "text/plain": [
       "[False, True, False]"
      ]
     },
     "execution_count": 24,
     "metadata": {},
     "output_type": "execute_result"
    }
   ],
   "source": [
    "list(map(lambda x:x%2 == 0,a))"
   ]
  },
  {
   "cell_type": "code",
   "execution_count": 32,
   "metadata": {},
   "outputs": [
    {
     "data": {
      "text/plain": [
       "1"
      ]
     },
     "execution_count": 32,
     "metadata": {},
     "output_type": "execute_result"
    }
   ],
   "source": [
    "sum(list(map(lambda x:x%2 == 0, a)))"
   ]
  },
  {
   "cell_type": "code",
   "execution_count": 36,
   "metadata": {},
   "outputs": [
    {
     "data": {
      "text/plain": [
       "168"
      ]
     },
     "execution_count": 36,
     "metadata": {},
     "output_type": "execute_result"
    }
   ],
   "source": [
    "sum(list(map(isprime, range(1,1001))))"
   ]
  },
  {
   "cell_type": "markdown",
   "metadata": {},
   "source": [
    "Input = 5\n",
    "\n",
    "1\n",
    "\n",
    "2 9\n",
    "\n",
    "3 8 10\n",
    "\n",
    "4 7 11 14\n",
    "\n",
    "5 6 12 13 15"
   ]
  },
  {
   "cell_type": "code",
   "execution_count": 40,
   "metadata": {
    "scrolled": true
   },
   "outputs": [
    {
     "name": "stdout",
     "output_type": "stream",
     "text": [
      "1\n",
      "2\n",
      "3\n",
      "4\n",
      "5\n"
     ]
    }
   ],
   "source": [
    "n= 5\n",
    "for i in range(1,n+1):\n",
    "    print(i)"
   ]
  },
  {
   "cell_type": "code",
   "execution_count": 43,
   "metadata": {},
   "outputs": [
    {
     "name": "stdout",
     "output_type": "stream",
     "text": [
      "1\n",
      "2 9\n",
      "3 8 10\n",
      "4 7 11 14\n",
      "5 6 12 13 15\n"
     ]
    }
   ],
   "source": [
    "print(1)\n",
    "print(2,9)\n",
    "print(3,8,10)\n",
    "print(4,7,11,14)\n",
    "print(5,6,12,13,15)"
   ]
  },
  {
   "cell_type": "code",
   "execution_count": 51,
   "metadata": {},
   "outputs": [
    {
     "name": "stdout",
     "output_type": "stream",
     "text": [
      "0 [[1, 2, 3, 4, 5]]\n",
      "1 [[1, 2, 3, 4, 5], [6, 7, 8, 9]]\n",
      "2 [[1, 2, 3, 4, 5], [6, 7, 8, 9], [10, 11, 12]]\n",
      "3 [[1, 2, 3, 4, 5], [6, 7, 8, 9], [10, 11, 12], [13, 14]]\n",
      "4 [[1, 2, 3, 4, 5], [6, 7, 8, 9], [10, 11, 12], [13, 14], [15]]\n"
     ]
    },
    {
     "data": {
      "text/plain": [
       "[[1, 2, 3, 4, 5], [6, 7, 8, 9], [10, 11, 12], [13, 14], [15]]"
      ]
     },
     "execution_count": 51,
     "metadata": {},
     "output_type": "execute_result"
    }
   ],
   "source": [
    "n = 5\n",
    "pat = []\n",
    "val = 1\n",
    "for i in range(n):\n",
    "    pat.append([])\n",
    "    pat[i].extend(list(range(val,val+n-i)))\n",
    "    print(i,pat)\n",
    "    val = pat[i][-1]+1\n",
    "pat"
   ]
  },
  {
   "cell_type": "code",
   "execution_count": 52,
   "metadata": {},
   "outputs": [
    {
     "data": {
      "text/plain": [
       "[[1, 2, 3, 4, 5], [9, 8, 7, 6], [12, 11, 10], [14, 13], [15]]"
      ]
     },
     "execution_count": 52,
     "metadata": {},
     "output_type": "execute_result"
    }
   ],
   "source": [
    "for i in range(1,len(pat)):\n",
    "    pat[i].sort()\n",
    "    pat[i] = pat[i][::-1]\n",
    "pat"
   ]
  },
  {
   "cell_type": "code",
   "execution_count": 53,
   "metadata": {},
   "outputs": [
    {
     "data": {
      "text/plain": [
       "[[1, 2, 3, 4, 5],\n",
       " [0, 9, 8, 7, 6],\n",
       " [0, 0, 12, 11, 10],\n",
       " [0, 0, 0, 14, 13],\n",
       " [0, 0, 0, 0, 15]]"
      ]
     },
     "execution_count": 53,
     "metadata": {},
     "output_type": "execute_result"
    }
   ],
   "source": [
    "for i in range(len(pat)):\n",
    "    if len(pat[0])!= len(pat[i]):\n",
    "        for j in range(i):\n",
    "            pat[i].insert(0,0)\n",
    "pat"
   ]
  },
  {
   "cell_type": "code",
   "execution_count": 56,
   "metadata": {},
   "outputs": [
    {
     "name": "stdout",
     "output_type": "stream",
     "text": [
      "1 \n",
      "2 9 \n",
      "3 8 12 \n",
      "4 7 11 14 \n",
      "5 6 10 13 15 \n"
     ]
    }
   ],
   "source": [
    "for i in list(zip(*pat)):\n",
    "    for j in i:\n",
    "        if j!=0:\n",
    "            print(j, end = \" \")\n",
    "    print()"
   ]
  },
  {
   "cell_type": "code",
   "execution_count": null,
   "metadata": {},
   "outputs": [],
   "source": []
  },
  {
   "cell_type": "code",
   "execution_count": null,
   "metadata": {},
   "outputs": [],
   "source": []
  },
  {
   "cell_type": "code",
   "execution_count": null,
   "metadata": {},
   "outputs": [],
   "source": []
  },
  {
   "cell_type": "code",
   "execution_count": 49,
   "metadata": {},
   "outputs": [
    {
     "name": "stdout",
     "output_type": "stream",
     "text": [
      "1\n",
      "3\n",
      "3 4 5\n",
      "[3, 4, 5]\n",
      "9\n"
     ]
    }
   ],
   "source": [
    "def solve (A,N):\n",
    "    subsets = 2**N\n",
    "    charge = 0\n",
    "    comp = subsets//2 4\n",
    "\n",
    "    for i in range(0,N): 3 4 5 \n",
    "        if (A[i] >= comp):\n",
    "            charge = charge + A[i]\n",
    "\n",
    "    return charge\n",
    "\n",
    "T = int(input())\n",
    "for _ in range(T):\n",
    "    N = int(input())\n",
    "    A = list(map(int, input().split()))\n",
    "    print(A)\n",
    "    out_ = solve(A,N)\n",
    "    print (out_)\n"
   ]
  },
  {
   "cell_type": "code",
   "execution_count": 50,
   "metadata": {},
   "outputs": [
    {
     "data": {
      "text/plain": [
       "9"
      ]
     },
     "execution_count": 50,
     "metadata": {},
     "output_type": "execute_result"
    }
   ],
   "source": [
    "9%(10**9+7)"
   ]
  },
  {
   "cell_type": "code",
   "execution_count": null,
   "metadata": {},
   "outputs": [],
   "source": []
  },
  {
   "cell_type": "code",
   "execution_count": null,
   "metadata": {},
   "outputs": [],
   "source": []
  }
 ],
 "metadata": {
  "kernelspec": {
   "display_name": "Python 3",
   "language": "python",
   "name": "python3"
  },
  "language_info": {
   "codemirror_mode": {
    "name": "ipython",
    "version": 3
   },
   "file_extension": ".py",
   "mimetype": "text/x-python",
   "name": "python",
   "nbconvert_exporter": "python",
   "pygments_lexer": "ipython3",
   "version": "3.7.4"
  }
 },
 "nbformat": 4,
 "nbformat_minor": 2
}
