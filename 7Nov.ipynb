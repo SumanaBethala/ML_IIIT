{
 "cells": [
  {
   "cell_type": "markdown",
   "metadata": {},
   "source": [
    "## 7th Nov 2k19\n",
    "### Machine Learning Class\n",
    "#### Hackerearth problems\n",
    "\n",
    "- Special number using Pandas\n",
    "- Matrix problem using Numpy"
   ]
  },
  {
   "cell_type": "code",
   "execution_count": null,
   "metadata": {},
   "outputs": [],
   "source": []
  },
  {
   "cell_type": "markdown",
   "metadata": {},
   "source": [
    "1. Special Number which is the **sum of 2 distinct single digit odd prime numbers having postive powers**\n",
    "\n",
    "    2 Operations\n",
    "    - Increased by 1  - INCREASING COST\n",
    "    - Decreased by 1  - DECREASING COST\n"
   ]
  },
  {
   "cell_type": "code",
   "execution_count": 34,
   "metadata": {},
   "outputs": [
    {
     "name": "stdout",
     "output_type": "stream",
     "text": [
      "1\n",
      "4\n",
      "7\n",
      "8\n",
      "32\n"
     ]
    }
   ],
   "source": [
    "def specialnumber(n):\n",
    "    list3=[]\n",
    "    list5=[]\n",
    "    list7=[]\n",
    "    fp = 10\n",
    "    for i in range(1,11):\n",
    "        list3.append(3**i)\n",
    "        list5.append(5**i)\n",
    "        list7.append(7**i)\n",
    "    for i in range(10):\n",
    "        for j in range(10):\n",
    "            if list3[i]+list5[j] == n or list3[i]+list7[j] == n:\n",
    "                return True\n",
    "    for i in range(10):\n",
    "        for j in range(10):\n",
    "            if list5[i]+list7[j] == n:\n",
    "                return True  \n",
    "    return False\n",
    "\n",
    "#specialnumber(14)\n",
    "\n",
    "def nextspecialnumber(n):\n",
    "    count = 0\n",
    "    while True:\n",
    "        if specialnumber(n):\n",
    "            #print(n)\n",
    "            break\n",
    "        else:\n",
    "            n +=1\n",
    "            count+=1\n",
    "    print(n*count)\n",
    "    return\n",
    "\n",
    "t = int(input())\n",
    "for i in range(t):\n",
    "    n = int(input())\n",
    "    dc = int(input())\n",
    "    ic = int(input())\n",
    "    nextspecialnumber(n)\n",
    "\n",
    "        \n",
    "        "
   ]
  },
  {
   "cell_type": "code",
   "execution_count": 32,
   "metadata": {},
   "outputs": [
    {
     "name": "stdout",
     "output_type": "stream",
     "text": [
      "8\n",
      "4\n"
     ]
    }
   ],
   "source": [
    "def nextspecialnumber(n):\n",
    "    count = 0\n",
    "    while True:\n",
    "        if specialnumber(n):\n",
    "            print(n)\n",
    "            break\n",
    "        else:\n",
    "            n +=1\n",
    "            count+=1\n",
    "    print(count)\n",
    "    return\n",
    "nextspecialnumber(4)\n"
   ]
  },
  {
   "cell_type": "code",
   "execution_count": 25,
   "metadata": {},
   "outputs": [
    {
     "name": "stdout",
     "output_type": "stream",
     "text": [
      "12\n"
     ]
    }
   ],
   "source": [
    "def prevspecialnumber(n):\n",
    "    count = 0\n",
    "    for i in range(1,n):\n",
    "        if specialnumber(i):\n",
    "            print(n)\n",
    "        else:\n",
    "            n +=1\n",
    "            count += 1\n",
    "    return\n",
    "nextspecialnumber(11)"
   ]
  },
  {
   "cell_type": "code",
   "execution_count": null,
   "metadata": {},
   "outputs": [],
   "source": []
  }
 ],
 "metadata": {
  "kernelspec": {
   "display_name": "Python 3",
   "language": "python",
   "name": "python3"
  },
  "language_info": {
   "codemirror_mode": {
    "name": "ipython",
    "version": 3
   },
   "file_extension": ".py",
   "mimetype": "text/x-python",
   "name": "python",
   "nbconvert_exporter": "python",
   "pygments_lexer": "ipython3",
   "version": "3.7.4"
  }
 },
 "nbformat": 4,
 "nbformat_minor": 2
}
