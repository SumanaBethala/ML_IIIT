{
 "cells": [
  {
   "cell_type": "code",
   "execution_count": 14,
   "metadata": {},
   "outputs": [
    {
     "data": {
      "text/plain": [
       "[1, 3, 7, 9, 8, 7, 4, 2]"
      ]
     },
     "execution_count": 14,
     "metadata": {},
     "output_type": "execute_result"
    }
   ],
   "source": [
    "l1 = [9,3,1,7,2,8,4,7]\n",
    "l1 = sorted(l1)\n",
    "l3 = []\n",
    "l2 = []\n",
    "for i in l1:\n",
    "    if i%2!=0 and i not in l2:\n",
    "        l2.append(i)\n",
    "    else:\n",
    "        l3.append(i)\n",
    "l3 = l3[::-1]\n",
    "l3\n",
    "l1 = l2+l3\n",
    "l1"
   ]
  },
  {
   "cell_type": "code",
   "execution_count": 18,
   "metadata": {},
   "outputs": [
    {
     "data": {
      "text/plain": [
       "[1, 3, 7, 9, 8, 7, 4, 2]"
      ]
     },
     "execution_count": 18,
     "metadata": {},
     "output_type": "execute_result"
    }
   ],
   "source": [
    "l1 = [9,3,1,7,2,8,4,7]\n",
    "l2 = sorted(l1[0:4])\n",
    "l3 = sorted(l1[4:], reverse = True)\n",
    "l1 = l2+l3\n",
    "l1"
   ]
  },
  {
   "cell_type": "code",
   "execution_count": 23,
   "metadata": {},
   "outputs": [
    {
     "data": {
      "text/plain": [
       "[1, 3, 7, 9, 8, 7, 4, 2]"
      ]
     },
     "execution_count": 23,
     "metadata": {},
     "output_type": "execute_result"
    }
   ],
   "source": [
    "l1 = [9,3,1,7,2,8,4,7]\n",
    "l1 = sorted(l1[0:4]) + (sorted(l1[4:], reverse = True))\n",
    "l1"
   ]
  },
  {
   "cell_type": "markdown",
   "metadata": {},
   "source": [
    "## Arguments\n",
    "\n",
    "- Positional Arguments\n",
    "- Default Arguments (default arguments shoulg give to the last variables only)\n",
    "- Keyword Arguments\n",
    "- "
   ]
  },
  {
   "cell_type": "code",
   "execution_count": 59,
   "metadata": {},
   "outputs": [
    {
     "name": "stdout",
     "output_type": "stream",
     "text": [
      "marks inside:  100\n"
     ]
    }
   ],
   "source": [
    "def student():\n",
    "    id = 36\n",
    "    name = \"sam\"\n",
    "    marks = 100\n",
    "    def teacher():\n",
    "        marks = 56\n",
    "    teacher()\n",
    "\n",
    "    print(\"marks inside: \" , marks)\n",
    "student()\n",
    "\n",
    "#print(\"marks outside function: \", marks)"
   ]
  },
  {
   "cell_type": "code",
   "execution_count": 57,
   "metadata": {},
   "outputs": [
    {
     "name": "stdout",
     "output_type": "stream",
     "text": [
      "marks inside:  56\n"
     ]
    }
   ],
   "source": [
    "def student():\n",
    "    id = 36\n",
    "    name = \"sam\"\n",
    "    marks = 100\n",
    "    def teacher():\n",
    "        nonlocal marks\n",
    "        marks = 56\n",
    "    teacher()\n",
    "\n",
    "    print(\"marks inside: \" , marks)\n",
    "student()\n",
    "\n",
    "#print(\"marks outside function: \", marks)"
   ]
  },
  {
   "cell_type": "code",
   "execution_count": null,
   "metadata": {},
   "outputs": [],
   "source": []
  }
 ],
 "metadata": {
  "kernelspec": {
   "display_name": "Python 3",
   "language": "python",
   "name": "python3"
  },
  "language_info": {
   "codemirror_mode": {
    "name": "ipython",
    "version": 3
   },
   "file_extension": ".py",
   "mimetype": "text/x-python",
   "name": "python",
   "nbconvert_exporter": "python",
   "pygments_lexer": "ipython3",
   "version": "3.7.4"
  }
 },
 "nbformat": 4,
 "nbformat_minor": 2
}
